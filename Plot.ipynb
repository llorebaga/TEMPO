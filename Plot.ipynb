{
 "cells": [
  {
   "cell_type": "code",
   "execution_count": 1,
   "id": "1f88bd55-7810-489a-85cc-a184db35dbc4",
   "metadata": {},
   "outputs": [],
   "source": [
    "import h5py\n",
    "import matplotlib.pyplot as plt\n",
    "import matplotlib.gridspec as gridspec\n",
    "import numpy as np"
   ]
  },
  {
   "cell_type": "markdown",
   "id": "7fbef130-b77b-433c-b79d-07e25cbd3fd5",
   "metadata": {},
   "source": [
    "## With Usual Hamiltonian"
   ]
  },
  {
   "cell_type": "code",
   "execution_count": 2,
   "id": "2fcd71ad-6d1e-4d62-984b-34de2d8e48fa",
   "metadata": {},
   "outputs": [],
   "source": [
    "# Load data\n",
    "        \n",
    "#timeslices = [2, 4, 8, 10]\n",
    "degree = [2,3,4,5]\n",
    "timeslices2 = [2,4,6,8]\n",
    "\n",
    "grape_inf = []\n",
    "pulseoptim_inf = []\n",
    "pop_inf = []\n",
    "\n",
    "for n_ts in degree:\n",
    "    with h5py.File(f\"RND_qutip_opt_results_qubits_{n_ts}_100.hdf5\", 'r') as f:\n",
    "        pulseoptim_inf.append(\n",
    "            f[\"pulseoptim_inf\"][...]\n",
    "        )\n",
    "        grape_inf.append(\n",
    "            f[\"grape_inf\"][...]\n",
    "        )\n",
    "\n",
    "    with h5py.File(f\"results_{n_ts}.hdf5\", 'r') as f:\n",
    "        pop_inf.append(1 - f['Infidelity'][...]\n",
    "                            )"
   ]
  },
  {
   "cell_type": "code",
   "execution_count": null,
   "id": "e6822351-b9fe-4215-8b92-4c42d9493820",
   "metadata": {},
   "outputs": [],
   "source": [
    "import matplotlib.patches as mpatches\n",
    "\n",
    "plt.figure(figsize=(5, 4))\n",
    "\n",
    "labels = []\n",
    "def add_label(violin, label):\n",
    "    color = violin[\"bodies\"][0].get_facecolor().flatten()\n",
    "    labels.append((mpatches.Patch(color=color), label))\n",
    "\n",
    "# GRAPE\n",
    "\n",
    "add_label(plt.violinplot([np.abs(_)  for _ in pulseoptim_inf]), \"CRAB\")\n",
    "add_label(plt.violinplot([np.abs(_)  for _ in grape_inf]), \"GRAPE\")    \n",
    "\n",
    "\n",
    "add_label(plt.violinplot([np.abs(_) for _ in pop_inf]), \"QCPOP\")\n",
    "\n",
    "plt.yscale('log')\n",
    "\n",
    "plt.xticks(range(1, len(degree) + 1), degree )\n",
    "plt.xlabel(\"Number of qubits\")\n",
    "\n",
    "plt.ylabel(\"Infidelity\")\n",
    "\n",
    "plt.legend(*zip(*labels), loc=4)\n",
    "\n",
    "plt.tight_layout()\n",
    "\n",
    "plt.savefig(\"Fig_grape_crab_vs_pop_magnus_random100.pdf\")\n",
    "\n",
    "plt.show()"
   ]
  },
  {
   "cell_type": "code",
   "execution_count": null,
   "id": "066c3d68-476a-4c8d-84e9-17822fc1564f",
   "metadata": {},
   "outputs": [],
   "source": []
  }
 ],
 "metadata": {
  "kernelspec": {
   "display_name": "Python [conda env:base] *",
   "language": "python",
   "name": "conda-base-py"
  },
  "language_info": {
   "codemirror_mode": {
    "name": "ipython",
    "version": 3
   },
   "file_extension": ".py",
   "mimetype": "text/x-python",
   "name": "python",
   "nbconvert_exporter": "python",
   "pygments_lexer": "ipython3",
   "version": "3.12.7"
  }
 },
 "nbformat": 4,
 "nbformat_minor": 5
}
